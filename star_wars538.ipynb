{
 "cells": [
  {
   "cell_type": "markdown",
   "metadata": {},
   "source": [
    "# Star Wars Movie and Character Ratings"
   ]
  },
  {
   "cell_type": "code",
   "execution_count": 61,
   "metadata": {
    "scrolled": true
   },
   "outputs": [
    {
     "data": {
      "text/html": [
       "<div>\n",
       "<style scoped>\n",
       "    .dataframe tbody tr th:only-of-type {\n",
       "        vertical-align: middle;\n",
       "    }\n",
       "\n",
       "    .dataframe tbody tr th {\n",
       "        vertical-align: top;\n",
       "    }\n",
       "\n",
       "    .dataframe thead th {\n",
       "        text-align: right;\n",
       "    }\n",
       "</style>\n",
       "<table border=\"1\" class=\"dataframe\">\n",
       "  <thead>\n",
       "    <tr style=\"text-align: right;\">\n",
       "      <th></th>\n",
       "      <th>RespondentID</th>\n",
       "      <th>Have you seen any of the 6 films in the Star Wars franchise?</th>\n",
       "      <th>Do you consider yourself to be a fan of the Star Wars film franchise?</th>\n",
       "      <th>Which of the following Star Wars films have you seen? Please select all that apply.</th>\n",
       "      <th>Unnamed: 4</th>\n",
       "      <th>Unnamed: 5</th>\n",
       "      <th>Unnamed: 6</th>\n",
       "      <th>Unnamed: 7</th>\n",
       "      <th>Unnamed: 8</th>\n",
       "      <th>Please rank the Star Wars films in order of preference with 1 being your favorite film in the franchise and 6 being your least favorite film.</th>\n",
       "      <th>...</th>\n",
       "      <th>Unnamed: 28</th>\n",
       "      <th>Which character shot first?</th>\n",
       "      <th>Are you familiar with the Expanded Universe?</th>\n",
       "      <th>Do you consider yourself to be a fan of the Expanded Universe?æ</th>\n",
       "      <th>Do you consider yourself to be a fan of the Star Trek franchise?</th>\n",
       "      <th>Gender</th>\n",
       "      <th>Age</th>\n",
       "      <th>Household Income</th>\n",
       "      <th>Education</th>\n",
       "      <th>Location (Census Region)</th>\n",
       "    </tr>\n",
       "  </thead>\n",
       "  <tbody>\n",
       "    <tr>\n",
       "      <th>0</th>\n",
       "      <td>NaN</td>\n",
       "      <td>Response</td>\n",
       "      <td>Response</td>\n",
       "      <td>Star Wars: Episode I  The Phantom Menace</td>\n",
       "      <td>Star Wars: Episode II  Attack of the Clones</td>\n",
       "      <td>Star Wars: Episode III  Revenge of the Sith</td>\n",
       "      <td>Star Wars: Episode IV  A New Hope</td>\n",
       "      <td>Star Wars: Episode V The Empire Strikes Back</td>\n",
       "      <td>Star Wars: Episode VI Return of the Jedi</td>\n",
       "      <td>Star Wars: Episode I  The Phantom Menace</td>\n",
       "      <td>...</td>\n",
       "      <td>Yoda</td>\n",
       "      <td>Response</td>\n",
       "      <td>Response</td>\n",
       "      <td>Response</td>\n",
       "      <td>Response</td>\n",
       "      <td>Response</td>\n",
       "      <td>Response</td>\n",
       "      <td>Response</td>\n",
       "      <td>Response</td>\n",
       "      <td>Response</td>\n",
       "    </tr>\n",
       "    <tr>\n",
       "      <th>1</th>\n",
       "      <td>3.292880e+09</td>\n",
       "      <td>Yes</td>\n",
       "      <td>Yes</td>\n",
       "      <td>Star Wars: Episode I  The Phantom Menace</td>\n",
       "      <td>Star Wars: Episode II  Attack of the Clones</td>\n",
       "      <td>Star Wars: Episode III  Revenge of the Sith</td>\n",
       "      <td>Star Wars: Episode IV  A New Hope</td>\n",
       "      <td>Star Wars: Episode V The Empire Strikes Back</td>\n",
       "      <td>Star Wars: Episode VI Return of the Jedi</td>\n",
       "      <td>3</td>\n",
       "      <td>...</td>\n",
       "      <td>Very favorably</td>\n",
       "      <td>I don't understand this question</td>\n",
       "      <td>Yes</td>\n",
       "      <td>No</td>\n",
       "      <td>No</td>\n",
       "      <td>Male</td>\n",
       "      <td>18-29</td>\n",
       "      <td>NaN</td>\n",
       "      <td>High school degree</td>\n",
       "      <td>South Atlantic</td>\n",
       "    </tr>\n",
       "    <tr>\n",
       "      <th>2</th>\n",
       "      <td>3.292880e+09</td>\n",
       "      <td>No</td>\n",
       "      <td>NaN</td>\n",
       "      <td>NaN</td>\n",
       "      <td>NaN</td>\n",
       "      <td>NaN</td>\n",
       "      <td>NaN</td>\n",
       "      <td>NaN</td>\n",
       "      <td>NaN</td>\n",
       "      <td>NaN</td>\n",
       "      <td>...</td>\n",
       "      <td>NaN</td>\n",
       "      <td>NaN</td>\n",
       "      <td>NaN</td>\n",
       "      <td>NaN</td>\n",
       "      <td>Yes</td>\n",
       "      <td>Male</td>\n",
       "      <td>18-29</td>\n",
       "      <td>$0 - $24,999</td>\n",
       "      <td>Bachelor degree</td>\n",
       "      <td>West South Central</td>\n",
       "    </tr>\n",
       "    <tr>\n",
       "      <th>3</th>\n",
       "      <td>3.292765e+09</td>\n",
       "      <td>Yes</td>\n",
       "      <td>No</td>\n",
       "      <td>Star Wars: Episode I  The Phantom Menace</td>\n",
       "      <td>Star Wars: Episode II  Attack of the Clones</td>\n",
       "      <td>Star Wars: Episode III  Revenge of the Sith</td>\n",
       "      <td>NaN</td>\n",
       "      <td>NaN</td>\n",
       "      <td>NaN</td>\n",
       "      <td>1</td>\n",
       "      <td>...</td>\n",
       "      <td>Unfamiliar (N/A)</td>\n",
       "      <td>I don't understand this question</td>\n",
       "      <td>No</td>\n",
       "      <td>NaN</td>\n",
       "      <td>No</td>\n",
       "      <td>Male</td>\n",
       "      <td>18-29</td>\n",
       "      <td>$0 - $24,999</td>\n",
       "      <td>High school degree</td>\n",
       "      <td>West North Central</td>\n",
       "    </tr>\n",
       "    <tr>\n",
       "      <th>4</th>\n",
       "      <td>3.292763e+09</td>\n",
       "      <td>Yes</td>\n",
       "      <td>Yes</td>\n",
       "      <td>Star Wars: Episode I  The Phantom Menace</td>\n",
       "      <td>Star Wars: Episode II  Attack of the Clones</td>\n",
       "      <td>Star Wars: Episode III  Revenge of the Sith</td>\n",
       "      <td>Star Wars: Episode IV  A New Hope</td>\n",
       "      <td>Star Wars: Episode V The Empire Strikes Back</td>\n",
       "      <td>Star Wars: Episode VI Return of the Jedi</td>\n",
       "      <td>5</td>\n",
       "      <td>...</td>\n",
       "      <td>Very favorably</td>\n",
       "      <td>I don't understand this question</td>\n",
       "      <td>No</td>\n",
       "      <td>NaN</td>\n",
       "      <td>Yes</td>\n",
       "      <td>Male</td>\n",
       "      <td>18-29</td>\n",
       "      <td>$100,000 - $149,999</td>\n",
       "      <td>Some college or Associate degree</td>\n",
       "      <td>West North Central</td>\n",
       "    </tr>\n",
       "  </tbody>\n",
       "</table>\n",
       "<p>5 rows × 38 columns</p>\n",
       "</div>"
      ],
      "text/plain": [
       "   RespondentID Have you seen any of the 6 films in the Star Wars franchise?  \\\n",
       "0           NaN                                           Response             \n",
       "1  3.292880e+09                                                Yes             \n",
       "2  3.292880e+09                                                 No             \n",
       "3  3.292765e+09                                                Yes             \n",
       "4  3.292763e+09                                                Yes             \n",
       "\n",
       "  Do you consider yourself to be a fan of the Star Wars film franchise?  \\\n",
       "0                                           Response                      \n",
       "1                                                Yes                      \n",
       "2                                                NaN                      \n",
       "3                                                 No                      \n",
       "4                                                Yes                      \n",
       "\n",
       "  Which of the following Star Wars films have you seen? Please select all that apply.  \\\n",
       "0           Star Wars: Episode I  The Phantom Menace                                    \n",
       "1           Star Wars: Episode I  The Phantom Menace                                    \n",
       "2                                                NaN                                    \n",
       "3           Star Wars: Episode I  The Phantom Menace                                    \n",
       "4           Star Wars: Episode I  The Phantom Menace                                    \n",
       "\n",
       "                                    Unnamed: 4  \\\n",
       "0  Star Wars: Episode II  Attack of the Clones   \n",
       "1  Star Wars: Episode II  Attack of the Clones   \n",
       "2                                          NaN   \n",
       "3  Star Wars: Episode II  Attack of the Clones   \n",
       "4  Star Wars: Episode II  Attack of the Clones   \n",
       "\n",
       "                                    Unnamed: 5  \\\n",
       "0  Star Wars: Episode III  Revenge of the Sith   \n",
       "1  Star Wars: Episode III  Revenge of the Sith   \n",
       "2                                          NaN   \n",
       "3  Star Wars: Episode III  Revenge of the Sith   \n",
       "4  Star Wars: Episode III  Revenge of the Sith   \n",
       "\n",
       "                          Unnamed: 6  \\\n",
       "0  Star Wars: Episode IV  A New Hope   \n",
       "1  Star Wars: Episode IV  A New Hope   \n",
       "2                                NaN   \n",
       "3                                NaN   \n",
       "4  Star Wars: Episode IV  A New Hope   \n",
       "\n",
       "                                     Unnamed: 7  \\\n",
       "0  Star Wars: Episode V The Empire Strikes Back   \n",
       "1  Star Wars: Episode V The Empire Strikes Back   \n",
       "2                                           NaN   \n",
       "3                                           NaN   \n",
       "4  Star Wars: Episode V The Empire Strikes Back   \n",
       "\n",
       "                                 Unnamed: 8  \\\n",
       "0  Star Wars: Episode VI Return of the Jedi   \n",
       "1  Star Wars: Episode VI Return of the Jedi   \n",
       "2                                       NaN   \n",
       "3                                       NaN   \n",
       "4  Star Wars: Episode VI Return of the Jedi   \n",
       "\n",
       "  Please rank the Star Wars films in order of preference with 1 being your favorite film in the franchise and 6 being your least favorite film.  \\\n",
       "0           Star Wars: Episode I  The Phantom Menace                                                                                              \n",
       "1                                                  3                                                                                              \n",
       "2                                                NaN                                                                                              \n",
       "3                                                  1                                                                                              \n",
       "4                                                  5                                                                                              \n",
       "\n",
       "            ...                  Unnamed: 28  \\\n",
       "0           ...                         Yoda   \n",
       "1           ...               Very favorably   \n",
       "2           ...                          NaN   \n",
       "3           ...             Unfamiliar (N/A)   \n",
       "4           ...               Very favorably   \n",
       "\n",
       "        Which character shot first?  \\\n",
       "0                          Response   \n",
       "1  I don't understand this question   \n",
       "2                               NaN   \n",
       "3  I don't understand this question   \n",
       "4  I don't understand this question   \n",
       "\n",
       "  Are you familiar with the Expanded Universe?  \\\n",
       "0                                     Response   \n",
       "1                                          Yes   \n",
       "2                                          NaN   \n",
       "3                                           No   \n",
       "4                                           No   \n",
       "\n",
       "  Do you consider yourself to be a fan of the Expanded Universe?æ  \\\n",
       "0                                           Response                 \n",
       "1                                                 No                 \n",
       "2                                                NaN                 \n",
       "3                                                NaN                 \n",
       "4                                                NaN                 \n",
       "\n",
       "  Do you consider yourself to be a fan of the Star Trek franchise?    Gender  \\\n",
       "0                                           Response                Response   \n",
       "1                                                 No                    Male   \n",
       "2                                                Yes                    Male   \n",
       "3                                                 No                    Male   \n",
       "4                                                Yes                    Male   \n",
       "\n",
       "        Age     Household Income                         Education  \\\n",
       "0  Response             Response                          Response   \n",
       "1     18-29                  NaN                High school degree   \n",
       "2     18-29         $0 - $24,999                   Bachelor degree   \n",
       "3     18-29         $0 - $24,999                High school degree   \n",
       "4     18-29  $100,000 - $149,999  Some college or Associate degree   \n",
       "\n",
       "  Location (Census Region)  \n",
       "0                 Response  \n",
       "1           South Atlantic  \n",
       "2       West South Central  \n",
       "3       West North Central  \n",
       "4       West North Central  \n",
       "\n",
       "[5 rows x 38 columns]"
      ]
     },
     "execution_count": 61,
     "metadata": {},
     "output_type": "execute_result"
    }
   ],
   "source": [
    "# Import data and glimpse at first few rows\n",
    "\n",
    "import pandas as pd\n",
    "import numpy as np\n",
    "import matplotlib.pyplot as plt\n",
    "%matplotlib inline\n",
    "\n",
    "star_wars = pd.read_csv('https://raw.githubusercontent.com/fivethirtyeight/data/master/star-wars-survey/StarWars.csv', encoding = 'ISO-8859-1')\n",
    "star_wars.head()"
   ]
  },
  {
   "cell_type": "markdown",
   "metadata": {},
   "source": [
    "## Data Cleaning"
   ]
  },
  {
   "cell_type": "code",
   "execution_count": 62,
   "metadata": {},
   "outputs": [],
   "source": [
    "# Remove rows with a missing respondent ID\n",
    "\n",
    "star_wars = star_wars[pd.notnull(star_wars['RespondentID'])]"
   ]
  },
  {
   "cell_type": "code",
   "execution_count": 63,
   "metadata": {},
   "outputs": [],
   "source": [
    "# Create dictionary mapping for columns 2 and 3\n",
    "\n",
    "yes_no = {\n",
    "    \"Yes\": True,\n",
    "    \"No\": False\n",
    "}\n",
    "\n",
    "# Convert variables to boolean\n",
    "\n",
    "star_wars.iloc[:,1] = star_wars.iloc[:,1].map(yes_no)\n",
    "star_wars.iloc[:,2] = star_wars.iloc[:,2].map(yes_no)"
   ]
  },
  {
   "cell_type": "code",
   "execution_count": 64,
   "metadata": {},
   "outputs": [],
   "source": [
    "# Create dictionary mapping for movies respondents have seen or not (columns 4 through 9)\n",
    "\n",
    "movie_mapping = {\n",
    "    'Star Wars: Episode I  The Phantom Menace': True,\n",
    "    'Star Wars: Episode II  Attack of the Clones': True,\n",
    "    'Star Wars: Episode III  Revenge of the Sith': True,\n",
    "    'Star Wars: Episode IV  A New Hope': True,\n",
    "    'Star Wars: Episode V The Empire Strikes Back': True,\n",
    "    'Star Wars: Episode VI Return of the Jedi': True,\n",
    "    np.nan: False\n",
    "}\n",
    "# Convert variables to boolean\n",
    "\n",
    "for i in star_wars.columns[3:9]:\n",
    "    star_wars[i] = star_wars[i].map(movie_mapping)"
   ]
  },
  {
   "cell_type": "code",
   "execution_count": 65,
   "metadata": {},
   "outputs": [],
   "source": [
    "# Convert columns 10 through 15 to float data type\n",
    "\n",
    "star_wars[star_wars.columns[9:15]] = star_wars[star_wars.columns[9:15]].astype(float)"
   ]
  },
  {
   "cell_type": "code",
   "execution_count": 66,
   "metadata": {},
   "outputs": [],
   "source": [
    "# Create dictionary mapping for likert-type scale questions (columns 16 through 29)\n",
    "\n",
    "likert_mapping = {\n",
    "'Somewhat favorably': 5,\n",
    "'Very favorably': 4,\n",
    "'Neither favorably nor unfavorably (neutral)': 3,\n",
    "'Somewhat unfavorably': 2,\n",
    "'Unfamiliar (N/A)': 0,\n",
    "'Very unfavorably': 1\n",
    "}\n",
    "\n",
    "for i in star_wars.columns[15:29]:\n",
    "    star_wars[i] = star_wars[i].map(likert_mapping)"
   ]
  },
  {
   "cell_type": "code",
   "execution_count": 67,
   "metadata": {},
   "outputs": [],
   "source": [
    "# Rename columns\n",
    "\n",
    "star_wars = star_wars.rename(columns={\n",
    "    'Which of the following Star Wars films have you seen? Please select all that apply.': \"seen_Ep1\",\n",
    "    'Unnamed: 4': 'seen_Ep2',\n",
    "    'Unnamed: 5': 'seen_Ep3',\n",
    "    'Unnamed: 6': 'seen_Ep4',\n",
    "    'Unnamed: 7': 'seen_Ep5',\n",
    "    'Unnamed: 8': 'seen_Ep6',\n",
    "    'Please rank the Star Wars films in order of preference with 1 being your favorite film in the franchise and 6 being your least favorite film.': 'ranking_Ep1',\n",
    "    'Unnamed: 10': 'ranking_Ep2',\n",
    "    'Unnamed: 11': 'ranking_Ep3',\n",
    "    'Unnamed: 12': 'ranking_Ep4',\n",
    "    'Unnamed: 13': 'ranking_Ep5',\n",
    "    'Unnamed: 14': 'ranking_Ep6',\n",
    "    'Please state whether you view the following characters favorably, unfavorably, or are unfamiliar with him/her.': 'Han Solo',\n",
    "    'Unnamed: 16': 'Luke Skywalker',\n",
    "    'Unnamed: 17': 'Princess Leia Organa',\n",
    "    'Unnamed: 18': 'Anakin Skywalker',\n",
    "    'Unnamed: 19': 'Obi Wan Kenobi',\n",
    "    'Unnamed: 20': 'Emperor Palpatine',\n",
    "    'Unnamed: 21': 'Darth Vader',\n",
    "    'Unnamed: 22': 'Lando Calrissian',\n",
    "    'Unnamed: 23': 'Boba Fett',\n",
    "    'Unnamed: 24': 'C-3P0',\n",
    "    'Unnamed: 25': 'R2 D2',\n",
    "    'Unnamed: 26': 'Jar Jar Binks',\n",
    "    'Unnamed: 27': 'Padme Amidala',\n",
    "    'Unnamed: 28': 'Yoda'\n",
    "})"
   ]
  },
  {
   "cell_type": "markdown",
   "metadata": {},
   "source": [
    "## Data Visualization and Analysis"
   ]
  },
  {
   "cell_type": "code",
   "execution_count": 68,
   "metadata": {},
   "outputs": [
    {
     "data": {
      "text/plain": [
       "Text(0,0.5,'Average Ranking')"
      ]
     },
     "execution_count": 68,
     "metadata": {},
     "output_type": "execute_result"
    },
    {
     "data": {
      "image/png": "[encoded data removed]",
      "text/plain": [
       "<Figure size 432x288 with 1 Axes>"
      ]
     },
     "metadata": {},
     "output_type": "display_data"
    }
   ],
   "source": [
    "# Create bar chart of average episode rankings\n",
    "\n",
    "ranking_vars = star_wars.columns[9:15]\n",
    "ax = star_wars[ranking_vars].mean().plot.bar(colormap = 'Accent',\n",
    "                                             title = 'Star Wars Episodes - Average Rankings')\n",
    "ax.set_ylabel('Average Ranking')"
   ]
  },
  {
   "cell_type": "markdown",
   "metadata": {},
   "source": [
    "**The original Star Wars trilogy (Ep4, Ep5, and Ep6) tends to have a lower ranking than the second trilogy (Ep1, Ep2, and Ep3), indicating that respondents typically prefer the original trilogy over the second trilogy. Within the original trilogy, Episode 5 was the clear favorite, followed by Episode 6 and then Episode 4.**"
   ]
  },
  {
   "cell_type": "code",
   "execution_count": 69,
   "metadata": {
    "scrolled": true
   },
   "outputs": [
    {
     "data": {
      "text/plain": [
       "Text(0,0.5,'Number of Respondents')"
      ]
     },
     "execution_count": 69,
     "metadata": {},
     "output_type": "execute_result"
    },
    {
     "data": {
      "image/png": "[encoded data removed]",
      "text/plain": [
       "<Figure size 432x288 with 1 Axes>"
      ]
     },
     "metadata": {},
     "output_type": "display_data"
    }
   ],
   "source": [
    "# Create bar chart of number of respondents who have seen each episode\n",
    "\n",
    "seen_vars = star_wars.columns[3:9]\n",
    "ax = star_wars[seen_vars].sum().plot.bar(colormap = 'Accent',\n",
    "                                         title = 'Number of Respondents Who Have Seen Each Episode')\n",
    "ax.set_ylabel('Number of Respondents')"
   ]
  },
  {
   "cell_type": "markdown",
   "metadata": {},
   "source": [
    "**Episode 5 appears to be the most popular in terms of the number of people who have seen the film, followed closely by episode 6.**"
   ]
  },
  {
   "cell_type": "code",
   "execution_count": 70,
   "metadata": {},
   "outputs": [
    {
     "data": {
      "text/plain": [
       "Text(0,0.5,'Number of Respondents')"
      ]
     },
     "execution_count": 70,
     "metadata": {},
     "output_type": "execute_result"
    },
    {
     "data": {
      "image/png": "[encoded data removed]",
      "text/plain": [
       "<Figure size 432x288 with 1 Axes>"
      ]
     },
     "metadata": {},
     "output_type": "display_data"
    }
   ],
   "source": [
    "# Create temporary dataframe with totals for each trilogy\n",
    "\n",
    "tmp = star_wars\n",
    "tmp['seen_Ep456_total'] = tmp['seen_Ep4'] | tmp['seen_Ep5'] | tmp['seen_Ep6']\n",
    "tmp['seen_Ep123_total'] = tmp['seen_Ep1'] | tmp['seen_Ep2'] | tmp['seen_Ep3']\n",
    "ax = tmp[['seen_Ep456_total', 'seen_Ep123_total']].sum().plot.bar(colormap = 'Accent',\n",
    "                                                                  title = \"Number of Respondents Who Have Seen Atleast One Episode\\nBy Trilogy\")\n",
    "ax.set_ylabel('Number of Respondents')"
   ]
  },
  {
   "cell_type": "markdown",
   "metadata": {},
   "source": [
    "**Overall, it appears that the first trilogy (Episodes 4, 5, and 6) has been viewed more than the newer, second trilogy (Episodes 1, 2, and 3).**"
   ]
  },
  {
   "cell_type": "code",
   "execution_count": 71,
   "metadata": {},
   "outputs": [
    {
     "data": {
      "text/plain": [
       "Text(0,0.5,'Average Rating')"
      ]
     },
     "execution_count": 71,
     "metadata": {},
     "output_type": "execute_result"
    },
    {
     "data": {
      "image/png": "[encoded data removed]",
      "text/plain": [
       "<Figure size 576x288 with 1 Axes>"
      ]
     },
     "metadata": {},
     "output_type": "display_data"
    }
   ],
   "source": [
    "# Create bar chart of average charater ratings\n",
    "\n",
    "character_vars = star_wars.columns[15:29]\n",
    "character_ranking = star_wars[character_vars].mean().sort_values(ascending = False)\n",
    "ax = character_ranking.plot.bar(colormap = 'Accent',\n",
    "                                title = 'Average Rating by Character',\n",
    "                                figsize = (8,4),\n",
    "                                ylim = (0,5))\n",
    "ax.set_ylabel('Average Rating')"
   ]
  },
  {
   "cell_type": "markdown",
   "metadata": {},
   "source": [
    "**Not surprisingly, Luke Skywalker is rated as the most favorable character. Even less surprising is that Jar Jar Binks is the least favorable character in the Star Wars series.**"
   ]
  },
  {
   "cell_type": "code",
   "execution_count": 72,
   "metadata": {},
   "outputs": [
    {
     "data": {
      "text/plain": [
       "<matplotlib.legend.Legend at 0x1b3508672b0>"
      ]
     },
     "execution_count": 72,
     "metadata": {},
     "output_type": "execute_result"
    },
    {
     "data": {
      "image/png": "[encoded data removed]",
      "text/plain": [
       "<Figure size 576x288 with 1 Axes>"
      ]
     },
     "metadata": {},
     "output_type": "display_data"
    }
   ],
   "source": [
    "# Compare Male and Female Ratings via a dodged bar chart\n",
    "\n",
    "male = star_wars[star_wars['Gender'] == 'Male']\n",
    "female = star_wars[star_wars['Gender'] == 'Female']\n",
    "\n",
    "ax = male[ranking_vars].mean().plot.bar(colormap = 'Accent',\n",
    "                                        title = 'Star Wars Episodes - Average Rankings',\n",
    "                                        position = 0.9,\n",
    "                                        legend = True,\n",
    "                                        figsize = (8,4))\n",
    "\n",
    "female[ranking_vars].mean().plot.bar(colormap = 'Blues_r',\n",
    "                                     position = 0.1,\n",
    "                                     legend = True)\n",
    "\n",
    "ax.set_ylabel('Average Ranking')\n",
    "ax.legend(['Male', 'Female'])"
   ]
  },
  {
   "cell_type": "markdown",
   "metadata": {},
   "source": [
    "**Both men and women appear to prefer the first trilogy over the second trilogy. Between men and women, the survey suggests that men tend to give movies from the first trilogy slightly better average ratings than women. Women, on the other hand, tend to give movies from the second trilogy slightly better ratings than men, except for episode 3.**"
   ]
  },
  {
   "cell_type": "code",
   "execution_count": 73,
   "metadata": {},
   "outputs": [
    {
     "data": {
      "image/png": "[encoded data removed]",
      "text/plain": [
       "<Figure size 576x288 with 1 Axes>"
      ]
     },
     "metadata": {},
     "output_type": "display_data"
    }
   ],
   "source": [
    "ax = male[seen_vars].sum().plot.bar(colormap = 'Accent',\n",
    "                                    title = 'Number of Respondents Who Have Seen Each Episode\\nBy Gender',\n",
    "                                    position = 0.9,\n",
    "                                    legend = True,\n",
    "                                    figsize = (8,4))\n",
    "\n",
    "female[seen_vars].sum().plot.bar(colormap = 'Blues_r',\n",
    "                                 position = 0.1,\n",
    "                                 legend = True)\n",
    "\n",
    "ax.set_ylabel('Number of Respondents')\n",
    "ax.legend(['Male', 'Female'])\n",
    "ax.get_legend().set_bbox_to_anchor((0.2, 1))"
   ]
  },
  {
   "cell_type": "markdown",
   "metadata": {},
   "source": [
    "**The data suggest that men are more likely to have seen any of the 6 episodes from the first two Star Wars Trilogies, when compared with women.**"
   ]
  },
  {
   "cell_type": "code",
   "execution_count": 74,
   "metadata": {},
   "outputs": [
    {
     "name": "stdout",
     "output_type": "stream",
     "text": [
      "True     936\n",
      "False    250\n",
      "Name: Have you seen any of the 6 films in the Star Wars franchise?, dtype: int64\n",
      "True     552\n",
      "False    284\n",
      "Name: Do you consider yourself to be a fan of the Star Wars film franchise?, dtype: int64\n",
      "Han                                 325\n",
      "I don't understand this question    306\n",
      "Greedo                              197\n",
      "Name: Which character shot first?, dtype: int64\n",
      "No     615\n",
      "Yes    213\n",
      "Name: Are you familiar with the Expanded Universe?, dtype: int64\n",
      "No     114\n",
      "Yes     99\n",
      "Name: Do you consider yourself to be a fan of the Expanded Universe?æ, dtype: int64\n",
      "No     641\n",
      "Yes    427\n",
      "Name: Do you consider yourself to be a fan of the Star Trek franchise?, dtype: int64\n",
      "Female    549\n",
      "Male      497\n",
      "Name: Gender, dtype: int64\n",
      "45-60    291\n",
      "> 60     269\n",
      "30-44    268\n",
      "18-29    218\n",
      "Name: Age, dtype: int64\n",
      "$50,000 - $99,999      298\n",
      "$25,000 - $49,999      186\n",
      "$100,000 - $149,999    141\n",
      "$0 - $24,999           138\n",
      "$150,000+               95\n",
      "Name: Household Income, dtype: int64\n",
      "Some college or Associate degree    328\n",
      "Bachelor degree                     321\n",
      "Graduate degree                     275\n",
      "High school degree                  105\n",
      "Less than high school degree          7\n",
      "Name: Education, dtype: int64\n",
      "East North Central    181\n",
      "Pacific               175\n",
      "South Atlantic        170\n",
      "Middle Atlantic       122\n",
      "West South Central    110\n",
      "West North Central     93\n",
      "Mountain               79\n",
      "New England            75\n",
      "East South Central     38\n",
      "Name: Location (Census Region), dtype: int64\n"
     ]
    }
   ],
   "source": [
    "# Factor summaries for select columns\n",
    "\n",
    "cols = [1,2,29,30,31,32,33,34,35,36,37]\n",
    "for i in star_wars.columns[cols]:\n",
    "    print(star_wars[i].value_counts())"
   ]
  },
  {
   "cell_type": "code",
   "execution_count": 75,
   "metadata": {},
   "outputs": [
    {
     "name": "stdout",
     "output_type": "stream",
     "text": [
      "Have you seen any of the 6 films in the Star Wars franchise?\n",
      "0\n",
      "Do you consider yourself to be a fan of the Star Wars film franchise?\n",
      "350\n",
      "seen_Ep1\n",
      "0\n",
      "seen_Ep2\n",
      "0\n",
      "seen_Ep3\n",
      "0\n",
      "seen_Ep4\n",
      "0\n",
      "seen_Ep5\n",
      "0\n",
      "seen_Ep6\n",
      "0\n",
      "ranking_Ep1\n",
      "351\n",
      "ranking_Ep2\n",
      "350\n",
      "ranking_Ep3\n",
      "351\n",
      "ranking_Ep4\n",
      "350\n",
      "ranking_Ep5\n",
      "350\n",
      "ranking_Ep6\n",
      "350\n",
      "Han Solo\n",
      "357\n",
      "Luke Skywalker\n",
      "355\n",
      "Princess Leia Organa\n",
      "355\n",
      "Anakin Skywalker\n",
      "363\n",
      "Obi Wan Kenobi\n",
      "361\n",
      "Emperor Palpatine\n",
      "372\n",
      "Darth Vader\n",
      "360\n",
      "Lando Calrissian\n",
      "366\n",
      "Boba Fett\n",
      "374\n",
      "C-3P0\n",
      "359\n",
      "R2 D2\n",
      "356\n",
      "Jar Jar Binks\n",
      "365\n",
      "Padme Amidala\n",
      "372\n",
      "Yoda\n",
      "360\n",
      "Which character shot first?\n",
      "358\n",
      "Are you familiar with the Expanded Universe?\n",
      "358\n",
      "Do you consider yourself to be a fan of the Expanded Universe?æ\n",
      "973\n",
      "Do you consider yourself to be a fan of the Star Trek franchise?\n",
      "118\n",
      "Gender\n",
      "140\n",
      "Age\n",
      "140\n",
      "Household Income\n",
      "328\n",
      "Education\n",
      "150\n",
      "Location (Census Region)\n",
      "143\n"
     ]
    }
   ],
   "source": [
    "# Generate count of missing values for each column\n",
    "\n",
    "for i in range(1,38):\n",
    "    print(star_wars.columns[i])\n",
    "    print(sum(pd.isnull(star_wars.iloc[:,i])))"
   ]
  },
  {
   "cell_type": "code",
   "execution_count": null,
   "metadata": {},
   "outputs": [],
   "source": []
  }
 ],
 "metadata": {
  "kernelspec": {
   "display_name": "Python 3",
   "language": "python",
   "name": "python3"
  },
  "language_info": {
   "codemirror_mode": {
    "name": "ipython",
    "version": 3
   },
   "file_extension": ".py",
   "mimetype": "text/x-python",
   "name": "python",
   "nbconvert_exporter": "python",
   "pygments_lexer": "ipython3",
   "version": "3.6.5"
  }
 },
 "nbformat": 4,
 "nbformat_minor": 2
}
